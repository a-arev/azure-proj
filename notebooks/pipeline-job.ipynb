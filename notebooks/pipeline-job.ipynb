{
 "cells": [
  {
   "cell_type": "markdown",
   "id": "fc11d5cf-1993-42ec-badf-a31d2e79075f",
   "metadata": {},
   "source": [
    "# Titanic Challenge as Pipeline Job"
   ]
  },
  {
   "cell_type": "markdown",
   "id": "f116eeb4-d823-4a20-8661-a3491ebae54e",
   "metadata": {},
   "source": [
    "## Connect to Workspace"
   ]
  },
  {
   "cell_type": "code",
   "execution_count": 1,
   "id": "839d9bcf-44bd-4d18-9da3-1768137a6583",
   "metadata": {},
   "outputs": [],
   "source": [
    "from azure.identity import DefaultAzureCredential, InteractiveBrowserCredential\n",
    "from azure.ai.ml import MLClient\n",
    "\n",
    "try:\n",
    "    credential = DefaultAzureCredential()\n",
    "    # Check if given credential can get token successfully.\n",
    "    credential.get_token(\"https://management.azure.com/.default\")\n",
    "except Exception as ex:\n",
    "    # Fall back to InteractiveBrowserCredential in case DefaultAzureCredential not work\n",
    "    credential = InteractiveBrowserCredential()"
   ]
  },
  {
   "cell_type": "code",
   "execution_count": 2,
   "id": "d7769b68-e8c6-46da-a587-b65b693382c8",
   "metadata": {},
   "outputs": [
    {
     "name": "stderr",
     "output_type": "stream",
     "text": [
      "Found the config file in: /config.json\n"
     ]
    }
   ],
   "source": [
    "# Get a handle to workspace\n",
    "ml_client = MLClient.from_config(credential=credential)"
   ]
  },
  {
   "cell_type": "markdown",
   "id": "2a0acf78-74a6-45a8-ad22-faffb74b5a52",
   "metadata": {},
   "source": [
    "## Create Script Folder"
   ]
  },
  {
   "cell_type": "code",
   "execution_count": 3,
   "id": "9b8498e4-a985-4571-b180-d315c5d0ff3e",
   "metadata": {},
   "outputs": [
    {
     "name": "stdout",
     "output_type": "stream",
     "text": [
      "src folder created\n"
     ]
    }
   ],
   "source": [
    "import os\n",
    "\n",
    "# create a folder for the script files\n",
    "script_folder = 'src'\n",
    "os.makedirs(script_folder, exist_ok=True)\n",
    "print(script_folder, 'folder created')"
   ]
  },
  {
   "cell_type": "markdown",
   "id": "03165113-7fbb-4d64-9792-46f5ace7f674",
   "metadata": {},
   "source": [
    "## Create Data Preprocessing Script"
   ]
  },
  {
   "cell_type": "code",
   "execution_count": 4,
   "id": "e4df3ce8-35cc-47b7-8ff0-8c028c8b23fc",
   "metadata": {},
   "outputs": [
    {
     "name": "stdout",
     "output_type": "stream",
     "text": [
      "Overwriting src/prep-data.py\n"
     ]
    }
   ],
   "source": [
    "%%writefile $script_folder/prep-data.py\n",
    "# import libraries\n",
    "import argparse\n",
    "import pandas as pd\n",
    "from pathlib import Path\n",
    "from sklearn.preprocessing import MinMaxScaler\n",
    "from sklearn.preprocessing import LabelEncoder\n",
    "from sklearn.experimental import enable_iterative_imputer\n",
    "from sklearn.impute import SimpleImputer, IterativeImputer\n",
    "\n",
    "def main(args):\n",
    "    # read data\n",
    "    df_raw = get_data(args.input_data)\n",
    "\n",
    "    # prep data\n",
    "    df_prep = prep_data(df_raw)\n",
    "\n",
    "    print(\"Saving preprocessed data...\")\n",
    "    output_df = df_prep.to_csv((Path(args.output_data) / \"prepped_data.csv\"), index = False)\n",
    "\n",
    "# funtion reads in data\n",
    "def get_data(path):\n",
    "    print('Reading raw data...')\n",
    "    df = pd.read_csv(path)\n",
    "    \n",
    "    return df\n",
    "\n",
    "# funtion preprocesses data\n",
    "def prep_data(df):\n",
    "    print('Preprocessing raw data...')\n",
    "    # lowercase column names\n",
    "    df.columns = [str_colName.lower() for str_colName in df.columns]\n",
    "    \n",
    "    # drop unwanted features\n",
    "    dropFeats = ['name']\n",
    "    for col in dropFeats:\n",
    "        if col in df.columns:\n",
    "            df = df.drop(col, axis=1)\n",
    "\n",
    "    # numerical and categorical features\n",
    "    numFeats = ['age', 'sibsp', 'parch', 'fare']\n",
    "    catFeats = ['pclass', 'sex', 'ticket', 'cabin', 'embarked']\n",
    "    nonImpFeats = [feat for feat in df.columns if feat not in numFeats+catFeats]\n",
    "    \n",
    "    # impute numerical data\n",
    "    ii = IterativeImputer(random_state=2)\n",
    "    ii_data = ii.fit_transform(df[numFeats])\n",
    "    dfNum = pd.DataFrame(ii_data, columns=numFeats)\n",
    "\n",
    "    # impute categorical data\n",
    "    si = SimpleImputer(strategy='most_frequent')\n",
    "    si_data = si.fit_transform(df[catFeats])\n",
    "    dfCat = pd.DataFrame(si_data, columns=catFeats)\n",
    "    \n",
    "    # concatenate df\n",
    "    df = pd.concat([df[nonImpFeats], dfNum, dfCat], axis=1)\n",
    "    \n",
    "    # scale numerical features\n",
    "    scaler = MinMaxScaler()\n",
    "    df[numFeats] = scaler.fit_transform(df[numFeats])\n",
    "    \n",
    "    # encode categorical features\n",
    "    encoder = LabelEncoder()\n",
    "    for col in catFeats:\n",
    "        df[col] = encoder.fit_transform(df[col])\n",
    "    \n",
    "    return df\n",
    "\n",
    "def parse_args():\n",
    "    # setup arg parser\n",
    "    parser = argparse.ArgumentParser()\n",
    "\n",
    "    # add arguments\n",
    "    parser.add_argument(\"--input_data\", dest='input_data',\n",
    "                        type=str)\n",
    "    parser.add_argument(\"--output_data\", dest='output_data',\n",
    "                        type=str)\n",
    "    # parse args\n",
    "    args = parser.parse_args()\n",
    "\n",
    "    # return args\n",
    "    return args\n",
    "\n",
    "# run script\n",
    "if __name__ == \"__main__\":\n",
    "    # add space in logs\n",
    "    print(\"\\n\\n\")\n",
    "    print(\"*\" * 60)\n",
    "\n",
    "    # parse args\n",
    "    args = parse_args()\n",
    "\n",
    "    # run main function\n",
    "    main(args)\n",
    "\n",
    "    # add space in logs\n",
    "    print(\"*\" * 60)\n",
    "    print(\"\\n\\n\")\n",
    "    "
   ]
  },
  {
   "cell_type": "markdown",
   "id": "da063f7e-9294-493f-8fae-b8bc2449d2a0",
   "metadata": {},
   "source": [
    "## Create Model training Script"
   ]
  },
  {
   "cell_type": "code",
   "execution_count": 5,
   "id": "5fc96507-c29b-4401-b3a8-fedbbd5210a2",
   "metadata": {
    "scrolled": true
   },
   "outputs": [
    {
     "name": "stdout",
     "output_type": "stream",
     "text": [
      "Overwriting src/train-model.py\n"
     ]
    }
   ],
   "source": [
    "%%writefile $script_folder/train-model.py\n",
    "# import libraries\n",
    "import mlflow\n",
    "import glob\n",
    "import argparse\n",
    "import numpy as np\n",
    "import pandas as pd\n",
    "from sklearn.model_selection import train_test_split\n",
    "from sklearn.ensemble import RandomForestClassifier\n",
    "from sklearn.metrics import roc_auc_score\n",
    "from sklearn.metrics import roc_curve\n",
    "import matplotlib.pyplot as plt\n",
    "\n",
    "def main(args):\n",
    "    # enable autologging\n",
    "    mlflow.autolog()\n",
    "\n",
    "    # read data\n",
    "    df = get_data(args.training_data)\n",
    "\n",
    "    # split data\n",
    "    X_train, X_test, y_train, y_test = split_data(df)\n",
    "\n",
    "    # train model\n",
    "    model = train_model(X_train, y_train)\n",
    "\n",
    "    eval_model(model, X_test, y_test)\n",
    "\n",
    "# function reads in data\n",
    "def get_data(path):\n",
    "    print(\"Reading training data...\")\n",
    "    #df = pd.read_csv(path)\n",
    "    all_files = glob.glob(path + \"/*.csv\")\n",
    "    df = pd.concat((pd.read_csv(f) for f in all_files), sort=False)\n",
    "    df.dropna(inplace=True)\n",
    "    return df\n",
    "\n",
    "# function that splits data\n",
    "def split_data(df):\n",
    "    print(\"Splitting data...\")\n",
    "    X, y = df[['pclass', 'sex', 'age', 'sibsp', 'parch', 'ticket', 'fare','cabin', 'embarked']].values, df['survived'].values\n",
    "\n",
    "    X_train, X_test, y_train, y_test = train_test_split(X, y, test_size=0.33, random_state=2)\n",
    "\n",
    "    return X_train, X_test, y_train, y_test\n",
    "\n",
    "# function that trains the model\n",
    "def train_model(X_train, y_train):\n",
    "    print(\"Training model...\")\n",
    "    model = RandomForestClassifier(max_depth=7, random_state=2)\n",
    "    model.fit(X_train, y_train)\n",
    "    mlflow.sklearn.save_model(model, args.model_output)\n",
    "\n",
    "    return model\n",
    "\n",
    "# function that evaluates the model\n",
    "def eval_model(model, X_test, y_test):\n",
    "    # calculate accuracy\n",
    "    y_pred = model.predict(X_test)\n",
    "    acc = np.average(y_pred == y_test)\n",
    "    print('Accuracy:', acc)\n",
    "\n",
    "    # calculate AUC\n",
    "    y_scores = model.predict_proba(X_test)\n",
    "    auc = roc_auc_score(y_test,y_scores[:,1])\n",
    "    print('AUC: ' + str(auc))\n",
    "\n",
    "    # plot ROC curve\n",
    "    fpr, tpr, thresholds = roc_curve(y_test, y_scores[:,1])\n",
    "    fig = plt.figure(figsize=(6, 4))\n",
    "    # Plot the diagonal 50% line\n",
    "    plt.plot([0, 1], [0, 1], 'k--')\n",
    "    # Plot the FPR and TPR achieved by our model\n",
    "    plt.plot(fpr, tpr)\n",
    "    plt.xlabel('False Positive Rate')\n",
    "    plt.ylabel('True Positive Rate')\n",
    "    plt.title('ROC Curve')\n",
    "    plt.savefig(\"ROC-Curve.png\") \n",
    "\n",
    "def parse_args():\n",
    "    # setup arg parser\n",
    "    parser = argparse.ArgumentParser()\n",
    "\n",
    "    # add arguments\n",
    "    parser.add_argument(\"--training_data\", dest='training_data',\n",
    "                        type=str)\n",
    "    parser.add_argument(\"--model_output\", dest='model_output',\n",
    "                        type=str)\n",
    "\n",
    "    # parse args\n",
    "    args = parser.parse_args()\n",
    "\n",
    "    # return args\n",
    "    return args\n",
    "\n",
    "# run script\n",
    "if __name__ == \"__main__\":\n",
    "    # add space in logs\n",
    "    print(\"\\n\\n\")\n",
    "    print(\"*\" * 60)\n",
    "\n",
    "    # parse args\n",
    "    args = parse_args()\n",
    "\n",
    "    # run main function\n",
    "    main(args)\n",
    "\n",
    "    # add space in logs\n",
    "    print(\"*\" * 60)\n",
    "    print(\"\\n\\n\")\n"
   ]
  },
  {
   "cell_type": "markdown",
   "id": "db69831b-1a59-4921-8df2-0f39151dcce4",
   "metadata": {},
   "source": [
    "## Create Make Predictions Script"
   ]
  },
  {
   "cell_type": "code",
   "execution_count": 6,
   "id": "f69875c7-b5b7-4071-967a-574654ef1f26",
   "metadata": {},
   "outputs": [
    {
     "name": "stdout",
     "output_type": "stream",
     "text": [
      "Overwriting src/make-predictions.py\n"
     ]
    }
   ],
   "source": [
    "%%writefile $script_folder/make-predictions.py\n",
    "# import libraries\n",
    "import mlflow\n",
    "import glob\n",
    "import argparse\n",
    "import pandas as pd\n",
    "from pathlib import Path\n",
    "\n",
    "def main(args):\n",
    "    df = get_data(args.submission_data)\n",
    "    preds = make_predictions(df, args.model_input)\n",
    "    df_preds = prepare_predictions(df, preds)\n",
    "\n",
    "    print(\"Saving predictions data...\")\n",
    "    output_df = df_preds.to_csv((Path(args.predictions_data) / \"predictions_data.csv\"), index = False)\n",
    "\n",
    "# function prepares predictionsprint\n",
    "def prepare_predictions(df, preds_arr):\n",
    "    print(\"Preparing predictions...\")\n",
    "    print(df)\n",
    "    preds = pd.DataFrame(preds_arr)\n",
    "    df_preds = pd.concat([df[['passengerid']], preds], axis=1)\n",
    "    df_preds.columns = ['PassengerId', 'Survived']\n",
    "    \n",
    "    return df_preds\n",
    "\n",
    "# function reads in data\n",
    "def get_data(path):\n",
    "    print(\"Reading submission data...\")\n",
    "    #df = pd.read_csv(path)\n",
    "    all_files = glob.glob(path + \"/*.csv\")\n",
    "    df = pd.concat((pd.read_csv(f) for f in all_files), sort=False)\n",
    "    #df.dropna(inplace=True)\n",
    "    return df\n",
    "\n",
    "# function that makes predictions\n",
    "def make_predictions(df, model_path):\n",
    "    print(\"Making predictions...\")\n",
    "    df1 = df.drop(['passengerid'], axis=1)\n",
    "    # get model\n",
    "    model = mlflow.pyfunc.load_model(model_path)\n",
    "    preds = model.predict(df1[['pclass', 'sex', 'age', 'sibsp', 'parch', 'ticket', 'fare','cabin', 'embarked']])\n",
    "\n",
    "    return preds\n",
    "\n",
    "def parse_args():\n",
    "    # setup arg parser\n",
    "    parser = argparse.ArgumentParser()\n",
    "\n",
    "    # add arguments\n",
    "    parser.add_argument(\"--submission_data\", dest='submission_data',\n",
    "                        type=str)\n",
    "    parser.add_argument(\"--predictions_data\", dest='predictions_data',\n",
    "                        type=str)\n",
    "    parser.add_argument(\"--model_input\", dest='model_input',\n",
    "                        type=str)\n",
    "    \n",
    "    # parse args\n",
    "    args = parser.parse_args()\n",
    "\n",
    "    # return args\n",
    "    return args\n",
    "\n",
    "# run script\n",
    "if __name__ == \"__main__\":\n",
    "    # add space in logs\n",
    "    print(\"\\n\\n\")\n",
    "    print(\"*\" * 60)\n",
    "\n",
    "    # parse args\n",
    "    args = parse_args()\n",
    "\n",
    "    # run main function\n",
    "    main(args)\n",
    "\n",
    "    # add space in logs\n",
    "    print(\"*\" * 60)\n",
    "    print(\"\\n\\n\")\n"
   ]
  },
  {
   "cell_type": "markdown",
   "id": "94a10ce5-04b9-47e6-a30e-3484e453062f",
   "metadata": {},
   "source": [
    "## Define Components"
   ]
  },
  {
   "cell_type": "code",
   "execution_count": 7,
   "id": "f255aaf9-4c0e-4300-97bc-6819b4f455a7",
   "metadata": {},
   "outputs": [
    {
     "name": "stdout",
     "output_type": "stream",
     "text": [
      "Overwriting prep-data.yml\n"
     ]
    }
   ],
   "source": [
    "%%writefile prep-data.yml\n",
    "$schema: https://azuremlschemas.azureedge.net/latest/commandComponent.schema.json\n",
    "name: prep_data\n",
    "display_name: Prepare data for training/predictions\n",
    "version: 1\n",
    "type: command\n",
    "inputs:\n",
    "  input_data: \n",
    "    type: uri_file\n",
    "outputs:\n",
    "  output_data:\n",
    "    type: uri_folder\n",
    "code: ./src\n",
    "environment: azureml:AzureML-sklearn-0.24-ubuntu18.04-py37-cpu@latest\n",
    "command: >-\n",
    "  python prep-data.py \n",
    "  --input_data ${{inputs.input_data}}\n",
    "  --output_data ${{outputs.output_data}}"
   ]
  },
  {
   "cell_type": "code",
   "execution_count": 8,
   "id": "be0ff734-f30b-4a51-bb7e-b2c37b13de05",
   "metadata": {},
   "outputs": [
    {
     "name": "stdout",
     "output_type": "stream",
     "text": [
      "Overwriting train-model.yml\n"
     ]
    }
   ],
   "source": [
    "%%writefile train-model.yml\n",
    "$schema: https://azuremlschemas.azureedge.net/latest/commandComponent.schema.json\n",
    "name: train_model\n",
    "display_name: Train a random forest model\n",
    "version: 1\n",
    "type: command\n",
    "inputs:\n",
    "  training_data: \n",
    "    type: uri_folder\n",
    "outputs:\n",
    "  model_output:\n",
    "    type: mlflow_model\n",
    "code: ./src\n",
    "environment: azureml:AzureML-sklearn-0.24-ubuntu18.04-py37-cpu@latest\n",
    "command: >-\n",
    "  python train-model.py \n",
    "  --training_data ${{inputs.training_data}} \n",
    "  --model_output ${{outputs.model_output}} "
   ]
  },
  {
   "cell_type": "code",
   "execution_count": 9,
   "id": "b000499f-873f-4706-b6d3-ed11c3e8a55f",
   "metadata": {},
   "outputs": [
    {
     "name": "stdout",
     "output_type": "stream",
     "text": [
      "Overwriting make-predictions.yml\n"
     ]
    }
   ],
   "source": [
    "%%writefile make-predictions.yml\n",
    "$schema: https://azuremlschemas.azureedge.net/latest/commandComponent.schema.json\n",
    "name: make_predictions\n",
    "display_name: Makes predictions using a trained random forest model\n",
    "version: 1\n",
    "type: command\n",
    "inputs:\n",
    "  submission_data: \n",
    "    type: uri_folder\n",
    "  model_input:\n",
    "    type: mlflow_model\n",
    "outputs:\n",
    "  predictions_data:\n",
    "    type: uri_folder\n",
    "code: ./src\n",
    "environment: azureml:AzureML-sklearn-0.24-ubuntu18.04-py37-cpu@latest\n",
    "command: >-\n",
    "  python make-predictions.py \n",
    "  --submission_data ${{inputs.submission_data}} \n",
    "  --model_input ${{inputs.model_input}} \n",
    "  --predictions_data ${{outputs.predictions_data}} "
   ]
  },
  {
   "cell_type": "markdown",
   "id": "688b003e-6190-48df-9e06-2970fa2b64cf",
   "metadata": {},
   "source": [
    "## Load Components"
   ]
  },
  {
   "cell_type": "code",
   "execution_count": 10,
   "id": "f36b7787-934b-4ae4-8355-ecff5c5e1081",
   "metadata": {},
   "outputs": [],
   "source": [
    "from azure.ai.ml import load_component\n",
    "parent_dir = \"\"\n",
    "\n",
    "prep_data = load_component(source=parent_dir + \"./prep-data.yml\")\n",
    "train_random_forest = load_component(source=parent_dir + \"./train-model.yml\")\n",
    "make_predictions = load_component(source=parent_dir + \"./make-predictions.yml\")"
   ]
  },
  {
   "cell_type": "markdown",
   "id": "74a68092-a733-4508-a70f-46f671ce187c",
   "metadata": {},
   "source": [
    "## Build Pipeline"
   ]
  },
  {
   "cell_type": "code",
   "execution_count": 11,
   "id": "9385c70b-8fdc-4866-b743-73706e5c99a5",
   "metadata": {},
   "outputs": [],
   "source": [
    "from azure.ai.ml import Input\n",
    "from azure.ai.ml.constants import AssetTypes\n",
    "from azure.ai.ml.dsl import pipeline\n",
    "\n",
    "@pipeline()\n",
    "def titanic_classification(pipeline_job_input1, pipeline_job_input2):\n",
    "    # 1 clean training data\n",
    "    clean_data = prep_data(input_data=pipeline_job_input1)\n",
    "    # 2 train model\n",
    "    train_model = train_random_forest(training_data=clean_data.outputs.output_data)\n",
    "    # 3 clean submission data\n",
    "    clean_sub_data = prep_data(input_data=pipeline_job_input2)\n",
    "    # 4 make predictions with clean sub data\n",
    "    get_predictions = make_predictions(submission_data=clean_sub_data.outputs.output_data,\n",
    "                                   model_input=train_model.outputs.model_output)\n",
    "\n",
    "    return {\n",
    "        \"pipeline_job_transformed_data\": clean_data.outputs.output_data,\n",
    "        \"pipeline_job_trained_model\": train_model.outputs.model_output,\n",
    "        \"pipeline_job_prediction_data\": get_predictions.outputs.predictions_data,\n",
    "    }\n",
    "\n",
    "pipeline_job = titanic_classification(\n",
    "    Input(type=AssetTypes.URI_FILE, path=\"azureml:titanic-local:1\"),\n",
    "    Input(type=AssetTypes.URI_FILE, path=\"azureml:titanic-sub-local:1\")\n",
    ")"
   ]
  },
  {
   "cell_type": "markdown",
   "id": "a9e8b585-0d97-4092-b5cc-1a41fe697cc7",
   "metadata": {},
   "source": [
    "## Change Pipeline Parameters"
   ]
  },
  {
   "cell_type": "code",
   "execution_count": 12,
   "id": "0682bb0a-1cfe-4037-a5e1-7473830879ef",
   "metadata": {},
   "outputs": [
    {
     "name": "stderr",
     "output_type": "stream",
     "text": [
      "Class AutoDeleteSettingSchema: This is an experimental class, and may change at any time. Please see https://aka.ms/azuremlexperimental for more information.\n",
      "Class AutoDeleteConditionSchema: This is an experimental class, and may change at any time. Please see https://aka.ms/azuremlexperimental for more information.\n",
      "Class BaseAutoDeleteSettingSchema: This is an experimental class, and may change at any time. Please see https://aka.ms/azuremlexperimental for more information.\n",
      "Class IntellectualPropertySchema: This is an experimental class, and may change at any time. Please see https://aka.ms/azuremlexperimental for more information.\n",
      "Class ProtectionLevelSchema: This is an experimental class, and may change at any time. Please see https://aka.ms/azuremlexperimental for more information.\n",
      "Class BaseIntellectualPropertySchema: This is an experimental class, and may change at any time. Please see https://aka.ms/azuremlexperimental for more information.\n"
     ]
    },
    {
     "name": "stdout",
     "output_type": "stream",
     "text": [
      "display_name: titanic_classification\n",
      "type: pipeline\n",
      "inputs:\n",
      "  pipeline_job_input1:\n",
      "    type: uri_file\n",
      "    path: azureml:titanic-local:1\n",
      "  pipeline_job_input2:\n",
      "    type: uri_file\n",
      "    path: azureml:titanic-sub-local:1\n",
      "outputs:\n",
      "  pipeline_job_transformed_data:\n",
      "    type: uri_folder\n",
      "  pipeline_job_trained_model:\n",
      "    type: mlflow_model\n",
      "  pipeline_job_prediction_data:\n",
      "    type: uri_folder\n",
      "jobs:\n",
      "  clean_data:\n",
      "    type: command\n",
      "    inputs:\n",
      "      input_data:\n",
      "        path: ${{parent.inputs.pipeline_job_input1}}\n",
      "    outputs:\n",
      "      output_data: ${{parent.outputs.pipeline_job_transformed_data}}\n",
      "    component:\n",
      "      $schema: https://azuremlschemas.azureedge.net/latest/commandComponent.schema.json\n",
      "      name: prep_data\n",
      "      version: '1'\n",
      "      display_name: Prepare data for training/predictions\n",
      "      type: command\n",
      "      inputs:\n",
      "        input_data:\n",
      "          type: uri_file\n",
      "      outputs:\n",
      "        output_data:\n",
      "          type: uri_folder\n",
      "      command: python prep-data.py  --input_data ${{inputs.input_data}} --output_data\n",
      "        ${{outputs.output_data}}\n",
      "      environment: azureml:AzureML-sklearn-0.24-ubuntu18.04-py37-cpu@latest\n",
      "      code: /mnt/batch/tasks/shared/LS_root/mounts/clusters/aml-ci/code/Users/a.arev822/titanic/src\n",
      "      is_deterministic: true\n",
      "  train_model:\n",
      "    type: command\n",
      "    inputs:\n",
      "      training_data:\n",
      "        path: ${{parent.jobs.clean_data.outputs.output_data}}\n",
      "    outputs:\n",
      "      model_output: ${{parent.outputs.pipeline_job_trained_model}}\n",
      "    component:\n",
      "      $schema: https://azuremlschemas.azureedge.net/latest/commandComponent.schema.json\n",
      "      name: train_model\n",
      "      version: '1'\n",
      "      display_name: Train a random forest model\n",
      "      type: command\n",
      "      inputs:\n",
      "        training_data:\n",
      "          type: uri_folder\n",
      "      outputs:\n",
      "        model_output:\n",
      "          type: mlflow_model\n",
      "      command: 'python train-model.py  --training_data ${{inputs.training_data}}  --model_output\n",
      "        ${{outputs.model_output}} '\n",
      "      environment: azureml:AzureML-sklearn-0.24-ubuntu18.04-py37-cpu@latest\n",
      "      code: /mnt/batch/tasks/shared/LS_root/mounts/clusters/aml-ci/code/Users/a.arev822/titanic/src\n",
      "      is_deterministic: true\n",
      "  clean_sub_data:\n",
      "    type: command\n",
      "    inputs:\n",
      "      input_data:\n",
      "        path: ${{parent.inputs.pipeline_job_input2}}\n",
      "    component:\n",
      "      $schema: https://azuremlschemas.azureedge.net/latest/commandComponent.schema.json\n",
      "      name: prep_data\n",
      "      version: '1'\n",
      "      display_name: Prepare data for training/predictions\n",
      "      type: command\n",
      "      inputs:\n",
      "        input_data:\n",
      "          type: uri_file\n",
      "      outputs:\n",
      "        output_data:\n",
      "          type: uri_folder\n",
      "      command: python prep-data.py  --input_data ${{inputs.input_data}} --output_data\n",
      "        ${{outputs.output_data}}\n",
      "      environment: azureml:AzureML-sklearn-0.24-ubuntu18.04-py37-cpu@latest\n",
      "      code: /mnt/batch/tasks/shared/LS_root/mounts/clusters/aml-ci/code/Users/a.arev822/titanic/src\n",
      "      is_deterministic: true\n",
      "  get_predictions:\n",
      "    type: command\n",
      "    inputs:\n",
      "      submission_data:\n",
      "        path: ${{parent.jobs.clean_sub_data.outputs.output_data}}\n",
      "      model_input:\n",
      "        path: ${{parent.jobs.train_model.outputs.model_output}}\n",
      "    outputs:\n",
      "      predictions_data: ${{parent.outputs.pipeline_job_prediction_data}}\n",
      "    component:\n",
      "      $schema: https://azuremlschemas.azureedge.net/latest/commandComponent.schema.json\n",
      "      name: make_predictions\n",
      "      version: '1'\n",
      "      display_name: Makes predictions using a trained random forest model\n",
      "      type: command\n",
      "      inputs:\n",
      "        submission_data:\n",
      "          type: uri_folder\n",
      "        model_input:\n",
      "          type: mlflow_model\n",
      "      outputs:\n",
      "        predictions_data:\n",
      "          type: uri_folder\n",
      "      command: 'python make-predictions.py  --submission_data ${{inputs.submission_data}}  --model_input\n",
      "        ${{inputs.model_input}}  --predictions_data ${{outputs.predictions_data}} '\n",
      "      environment: azureml:AzureML-sklearn-0.24-ubuntu18.04-py37-cpu@latest\n",
      "      code: /mnt/batch/tasks/shared/LS_root/mounts/clusters/aml-ci/code/Users/a.arev822/titanic/src\n",
      "      is_deterministic: true\n",
      "settings:\n",
      "  default_datastore: azureml:workspaceblobstore\n",
      "  default_compute: azureml:aml-cluster\n",
      "\n"
     ]
    }
   ],
   "source": [
    "# set pipeline level compute\n",
    "pipeline_job.settings.default_compute = \"aml-cluster\"\n",
    "# set pipeline level datastore\n",
    "pipeline_job.settings.default_datastore = \"workspaceblobstore\"\n",
    "\n",
    "# print the pipeline job again to review the changes\n",
    "print(pipeline_job)"
   ]
  },
  {
   "cell_type": "markdown",
   "id": "6e1e3327-28af-4443-b357-2ab04901671c",
   "metadata": {},
   "source": [
    "## Submit Pipeline Job"
   ]
  },
  {
   "cell_type": "code",
   "execution_count": 13,
   "id": "9f4fcf7f-b814-47a9-967f-00c82ab7d1f1",
   "metadata": {},
   "outputs": [
    {
     "name": "stderr",
     "output_type": "stream",
     "text": [
      "\u001b[32mUploading src (0.01 MBs): 100%|██████████| 7507/7507 [00:00<00:00, 145404.60it/s]\n",
      "\u001b[39m\n",
      "\n",
      "pathOnCompute is not a known attribute of class <class 'azure.ai.ml._restclient.v2023_04_01_preview.models._models_py3.UriFolderJobOutput'> and will be ignored\n",
      "pathOnCompute is not a known attribute of class <class 'azure.ai.ml._restclient.v2023_04_01_preview.models._models_py3.MLFlowModelJobOutput'> and will be ignored\n",
      "pathOnCompute is not a known attribute of class <class 'azure.ai.ml._restclient.v2023_04_01_preview.models._models_py3.UriFolderJobOutput'> and will be ignored\n"
     ]
    },
    {
     "data": {
      "text/html": [
       "<table style=\"width:100%\"><tr><th>Experiment</th><th>Name</th><th>Type</th><th>Status</th><th>Details Page</th></tr><tr><td>pipeline_titanic</td><td>zen_orange_zjsg3d1xjy</td><td>pipeline</td><td>NotStarted</td><td><a href=\"https://ml.azure.com/runs/zen_orange_zjsg3d1xjy?wsid=/subscriptions/32a11691-d09a-41e0-a077-885cfbf93364/resourcegroups/rg-dp100-labs/workspaces/mlw-dp100-labs&amp;tid=500572c7-e81a-4778-8a95-3ca3b5706f9e\" target=\"_blank\" rel=\"noopener\">Link to Azure Machine Learning studio</a></td></tr></table>"
      ],
      "text/plain": [
       "PipelineJob({'inputs': {'pipeline_job_input1': <azure.ai.ml.entities._job.pipeline._io.base.PipelineInput object at 0x7fd7c3cac130>, 'pipeline_job_input2': <azure.ai.ml.entities._job.pipeline._io.base.PipelineInput object at 0x7fd7c3cac160>}, 'outputs': {'pipeline_job_transformed_data': <azure.ai.ml.entities._job.pipeline._io.base.PipelineOutput object at 0x7fd7c3d16470>, 'pipeline_job_trained_model': <azure.ai.ml.entities._job.pipeline._io.base.PipelineOutput object at 0x7fd7c3d17be0>, 'pipeline_job_prediction_data': <azure.ai.ml.entities._job.pipeline._io.base.PipelineOutput object at 0x7fd7c3d17c70>}, 'jobs': {}, 'component': PipelineComponent({'latest_version': None, 'intellectual_property': None, 'auto_increment_version': False, 'source': 'REMOTE.WORKSPACE.JOB', 'is_anonymous': True, 'auto_delete_setting': None, 'name': 'azureml_anonymous', 'description': None, 'tags': {}, 'properties': {}, 'print_as_yaml': False, 'id': None, 'Resource__source_path': None, 'base_path': '/mnt/batch/tasks/shared/LS_root/mounts/clusters/aml-ci/code/Users/a.arev822/titanic', 'creation_context': None, 'serialize': <msrest.serialization.Serializer object at 0x7fd7c3cdf850>, 'version': '1', 'schema': None, 'type': 'pipeline', 'display_name': 'titanic_classification', 'is_deterministic': None, 'inputs': {'pipeline_job_input1': {}, 'pipeline_job_input2': {}}, 'outputs': {'pipeline_job_transformed_data': {}, 'pipeline_job_trained_model': {}, 'pipeline_job_prediction_data': {}}, 'yaml_str': None, 'other_parameter': {}, 'jobs': {'clean_data': Command({'parameters': {}, 'init': False, 'name': 'clean_data', 'type': 'command', 'status': None, 'log_files': None, 'description': None, 'tags': {}, 'properties': {}, 'print_as_yaml': False, 'id': None, 'Resource__source_path': '', 'base_path': '/mnt/batch/tasks/shared/LS_root/mounts/clusters/aml-ci/code/Users/a.arev822/titanic', 'creation_context': None, 'serialize': <msrest.serialization.Serializer object at 0x7fd7c3cdf520>, 'allowed_keys': {}, 'key_restriction': False, 'logger': <TraceLogger attr_dict (WARNING)>, 'display_name': None, 'experiment_name': None, 'compute': None, 'services': None, 'comment': None, 'job_inputs': {'input_data': '${{parent.inputs.pipeline_job_input1}}'}, 'job_outputs': {'output_data': '${{parent.outputs.pipeline_job_transformed_data}}'}, 'inputs': {'input_data': <azure.ai.ml.entities._job.pipeline._io.base.NodeInput object at 0x7fd7c3cdf6a0>}, 'outputs': {'output_data': <azure.ai.ml.entities._job.pipeline._io.base.NodeOutput object at 0x7fd7c3cded10>}, 'component': 'azureml_anonymous:0974298b-7943-4eb9-b802-f8720b1e7e1c', 'referenced_control_flow_node_instance_id': None, 'kwargs': {'services': None}, 'instance_id': '7f7c707b-69af-458b-a875-319f107ae403', 'source': 'YAML.COMPONENT', 'validate_required_input_not_provided': True, 'limits': None, 'identity': None, 'distribution': None, 'environment_variables': {}, 'environment': None, 'resources': None, 'queue_settings': None, 'swept': False}), 'train_model': Command({'parameters': {}, 'init': False, 'name': 'train_model', 'type': 'command', 'status': None, 'log_files': None, 'description': None, 'tags': {}, 'properties': {}, 'print_as_yaml': False, 'id': None, 'Resource__source_path': '', 'base_path': '/mnt/batch/tasks/shared/LS_root/mounts/clusters/aml-ci/code/Users/a.arev822/titanic', 'creation_context': None, 'serialize': <msrest.serialization.Serializer object at 0x7fd7c3cdfb80>, 'allowed_keys': {}, 'key_restriction': False, 'logger': <TraceLogger attr_dict (WARNING)>, 'display_name': None, 'experiment_name': None, 'compute': None, 'services': None, 'comment': None, 'job_inputs': {'training_data': '${{parent.jobs.clean_data.outputs.output_data}}'}, 'job_outputs': {'model_output': '${{parent.outputs.pipeline_job_trained_model}}'}, 'inputs': {'training_data': <azure.ai.ml.entities._job.pipeline._io.base.NodeInput object at 0x7fd7c3cdfa90>}, 'outputs': {'model_output': <azure.ai.ml.entities._job.pipeline._io.base.NodeOutput object at 0x7fd7c3cdf940>}, 'component': 'azureml_anonymous:81dc9cbc-969f-4e1b-b4d2-3e35c187a177', 'referenced_control_flow_node_instance_id': None, 'kwargs': {'services': None}, 'instance_id': '12ebb416-e2dd-4121-ae32-8e2ad5a4828f', 'source': 'YAML.COMPONENT', 'validate_required_input_not_provided': True, 'limits': None, 'identity': None, 'distribution': None, 'environment_variables': {}, 'environment': None, 'resources': None, 'queue_settings': None, 'swept': False}), 'clean_sub_data': Command({'parameters': {}, 'init': False, 'name': 'clean_sub_data', 'type': 'command', 'status': None, 'log_files': None, 'description': None, 'tags': {}, 'properties': {}, 'print_as_yaml': False, 'id': None, 'Resource__source_path': '', 'base_path': '/mnt/batch/tasks/shared/LS_root/mounts/clusters/aml-ci/code/Users/a.arev822/titanic', 'creation_context': None, 'serialize': <msrest.serialization.Serializer object at 0x7fd7c3cde560>, 'allowed_keys': {}, 'key_restriction': False, 'logger': <TraceLogger attr_dict (WARNING)>, 'display_name': None, 'experiment_name': None, 'compute': None, 'services': None, 'comment': None, 'job_inputs': {'input_data': '${{parent.inputs.pipeline_job_input2}}'}, 'job_outputs': {}, 'inputs': {'input_data': <azure.ai.ml.entities._job.pipeline._io.base.NodeInput object at 0x7fd7c3cde7d0>}, 'outputs': {}, 'component': 'azureml_anonymous:0974298b-7943-4eb9-b802-f8720b1e7e1c', 'referenced_control_flow_node_instance_id': None, 'kwargs': {'services': None}, 'instance_id': 'c19791b0-2839-43be-9fa8-146e51501f49', 'source': 'YAML.COMPONENT', 'validate_required_input_not_provided': True, 'limits': None, 'identity': None, 'distribution': None, 'environment_variables': {}, 'environment': None, 'resources': None, 'queue_settings': None, 'swept': False}), 'get_predictions': Command({'parameters': {}, 'init': False, 'name': 'get_predictions', 'type': 'command', 'status': None, 'log_files': None, 'description': None, 'tags': {}, 'properties': {}, 'print_as_yaml': False, 'id': None, 'Resource__source_path': '', 'base_path': '/mnt/batch/tasks/shared/LS_root/mounts/clusters/aml-ci/code/Users/a.arev822/titanic', 'creation_context': None, 'serialize': <msrest.serialization.Serializer object at 0x7fd7c3cdf400>, 'allowed_keys': {}, 'key_restriction': False, 'logger': <TraceLogger attr_dict (WARNING)>, 'display_name': None, 'experiment_name': None, 'compute': None, 'services': None, 'comment': None, 'job_inputs': {'submission_data': '${{parent.jobs.clean_sub_data.outputs.output_data}}', 'model_input': '${{parent.jobs.train_model.outputs.model_output}}'}, 'job_outputs': {'predictions_data': '${{parent.outputs.pipeline_job_prediction_data}}'}, 'inputs': {'submission_data': <azure.ai.ml.entities._job.pipeline._io.base.NodeInput object at 0x7fd7c3cdedd0>, 'model_input': <azure.ai.ml.entities._job.pipeline._io.base.NodeInput object at 0x7fd7c3cdec20>}, 'outputs': {'predictions_data': <azure.ai.ml.entities._job.pipeline._io.base.NodeOutput object at 0x7fd7c3cdf490>}, 'component': 'azureml_anonymous:86850834-c01b-46d5-86df-de9943fec1d6', 'referenced_control_flow_node_instance_id': None, 'kwargs': {'services': None}, 'instance_id': '6289423a-4e9b-42cc-a385-0ab2fa63cb9c', 'source': 'YAML.COMPONENT', 'validate_required_input_not_provided': True, 'limits': None, 'identity': None, 'distribution': None, 'environment_variables': {}, 'environment': None, 'resources': None, 'queue_settings': None, 'swept': False})}, 'job_types': {'command': 4}, 'job_sources': {'YAML.COMPONENT': 4}, 'source_job_id': None}), 'type': 'pipeline', 'status': 'NotStarted', 'log_files': None, 'name': 'zen_orange_zjsg3d1xjy', 'description': None, 'tags': {}, 'properties': {}, 'print_as_yaml': False, 'id': '/subscriptions/32a11691-d09a-41e0-a077-885cfbf93364/resourceGroups/rg-dp100-labs/providers/Microsoft.MachineLearningServices/workspaces/mlw-dp100-labs/jobs/zen_orange_zjsg3d1xjy', 'Resource__source_path': '', 'base_path': '/mnt/batch/tasks/shared/LS_root/mounts/clusters/aml-ci/code/Users/a.arev822/titanic', 'creation_context': <azure.ai.ml.entities._system_data.SystemData object at 0x7fd7c3cdf670>, 'serialize': <msrest.serialization.Serializer object at 0x7fd7c3d16440>, 'display_name': 'titanic_classification', 'experiment_name': 'pipeline_titanic', 'compute': None, 'services': {'Tracking': {'endpoint': 'azureml://westus.api.azureml.ms/mlflow/v1.0/subscriptions/32a11691-d09a-41e0-a077-885cfbf93364/resourceGroups/rg-dp100-labs/providers/Microsoft.MachineLearningServices/workspaces/mlw-dp100-labs?', 'type': 'Tracking'}, 'Studio': {'endpoint': 'https://ml.azure.com/runs/zen_orange_zjsg3d1xjy?wsid=/subscriptions/32a11691-d09a-41e0-a077-885cfbf93364/resourcegroups/rg-dp100-labs/workspaces/mlw-dp100-labs&tid=500572c7-e81a-4778-8a95-3ca3b5706f9e', 'type': 'Studio'}}, 'settings': {}, 'identity': None, 'default_code': None, 'default_environment': None})"
      ]
     },
     "execution_count": 13,
     "metadata": {},
     "output_type": "execute_result"
    }
   ],
   "source": [
    "# submit job to workspace\n",
    "pipeline_job = ml_client.jobs.create_or_update(\n",
    "    pipeline_job, experiment_name=\"pipeline_titanic\"\n",
    ")\n",
    "pipeline_job"
   ]
  },
  {
   "cell_type": "markdown",
   "id": "f9432e0a-289d-4266-b438-a49741ea56a4",
   "metadata": {},
   "source": [
    "---\n",
    "# End of Notebook"
   ]
  }
 ],
 "metadata": {
  "kernelspec": {
   "display_name": "Python 3.8 - AzureML",
   "language": "python",
   "name": "python38-azureml"
  },
  "language_info": {
   "codemirror_mode": {
    "name": "ipython",
    "version": 3
   },
   "file_extension": ".py",
   "mimetype": "text/x-python",
   "name": "python",
   "nbconvert_exporter": "python",
   "pygments_lexer": "ipython3",
   "version": "3.10.11"
  }
 },
 "nbformat": 4,
 "nbformat_minor": 5
}
