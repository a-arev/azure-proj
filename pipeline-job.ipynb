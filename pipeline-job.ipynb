{
 "cells": [
  {
   "cell_type": "markdown",
   "id": "fc11d5cf-1993-42ec-badf-a31d2e79075f",
   "metadata": {},
   "source": [
    "# Titanic Challenge - Pipeline Job"
   ]
  },
  {
   "cell_type": "markdown",
   "id": "f116eeb4-d823-4a20-8661-a3491ebae54e",
   "metadata": {},
   "source": [
    "## Connect to Workspace"
   ]
  },
  {
   "cell_type": "code",
   "execution_count": null,
   "id": "839d9bcf-44bd-4d18-9da3-1768137a6583",
   "metadata": {},
   "outputs": [],
   "source": [
    "from azure.identity import DefaultAzureCredential, InteractiveBrowserCredential\n",
    "from azure.ai.ml import MLClient\n",
    "\n",
    "try:\n",
    "    credential = DefaultAzureCredential()\n",
    "    # Check if given credential can get token successfully.\n",
    "    credential.get_token(\"https://management.azure.com/.default\")\n",
    "except Exception as ex:\n",
    "    # Fall back to InteractiveBrowserCredential in case DefaultAzureCredential not work\n",
    "    credential = InteractiveBrowserCredential()"
   ]
  },
  {
   "cell_type": "code",
   "execution_count": null,
   "id": "d7769b68-e8c6-46da-a587-b65b693382c8",
   "metadata": {},
   "outputs": [],
   "source": [
    "# Get a handle to workspace\n",
    "ml_client = MLClient.from_config(credential=credential)"
   ]
  },
  {
   "cell_type": "markdown",
   "id": "688b003e-6190-48df-9e06-2970fa2b64cf",
   "metadata": {},
   "source": [
    "## Load Components"
   ]
  },
  {
   "cell_type": "code",
   "execution_count": null,
   "id": "f36b7787-934b-4ae4-8355-ecff5c5e1081",
   "metadata": {},
   "outputs": [],
   "source": [
    "from azure.ai.ml import load_component\n",
    "parent_dir = \"\"\n",
    "\n",
    "prep_data = load_component(source=parent_dir + \"./prep-data.yml\")\n",
    "train_random_forest = load_component(source=parent_dir + \"./train-model.yml\")\n",
    "make_predictions = load_component(source=parent_dir + \"./make-predictions.yml\")"
   ]
  },
  {
   "cell_type": "markdown",
   "id": "74a68092-a733-4508-a70f-46f671ce187c",
   "metadata": {},
   "source": [
    "## Build Pipeline"
   ]
  },
  {
   "cell_type": "code",
   "execution_count": null,
   "id": "9385c70b-8fdc-4866-b743-73706e5c99a5",
   "metadata": {},
   "outputs": [],
   "source": [
    "from azure.ai.ml import Input\n",
    "from azure.ai.ml.constants import AssetTypes\n",
    "from azure.ai.ml.dsl import pipeline\n",
    "\n",
    "@pipeline()\n",
    "def titanic_classification(titanic_data, sample_data):\n",
    "    # 1 clean training data\n",
    "    clean_titanic_data = prep_data(unclean_data=titanic_data)\n",
    "    # 2 train model\n",
    "    train_model = train_random_forest(training_data=clean_titanic_data.outputs.clean_data)\n",
    "    # 3 clean submission data\n",
    "    clean_sample_data = prep_data(unclean_data=sample_data)\n",
    "    # 4 make predictions with clean sub data\n",
    "    get_predictions = make_predictions(sample_data=clean_sample_data.outputs.clean_data,\n",
    "                                       trained_model=train_model.outputs.trained_model)\n",
    "\n",
    "    return {\n",
    "        \"pipeline_job_transformed_data\": clean_titanic_data.outputs.clean_data,\n",
    "        \"pipeline_job_trained_model\": train_model.outputs.trained_model,\n",
    "        \"pipeline_job_prediction_data\": get_predictions.outputs.predictions_data,\n",
    "    }\n",
    "\n",
    "pipeline_job = titanic_classification(\n",
    "    Input(type=AssetTypes.URI_FILE, path=\"azureml:titanic-local:1\"),\n",
    "    Input(type=AssetTypes.URI_FILE, path=\"azureml:titanic-sample-local:1\")\n",
    ")"
   ]
  },
  {
   "cell_type": "markdown",
   "id": "a9e8b585-0d97-4092-b5cc-1a41fe697cc7",
   "metadata": {},
   "source": [
    "## Change Pipeline Parameters"
   ]
  },
  {
   "cell_type": "code",
   "execution_count": null,
   "id": "0682bb0a-1cfe-4037-a5e1-7473830879ef",
   "metadata": {},
   "outputs": [],
   "source": [
    "# set pipeline level compute\n",
    "pipeline_job.settings.default_compute = \"aml-cluster\"\n",
    "# set pipeline level datastore\n",
    "pipeline_job.settings.default_datastore = \"workspaceblobstore\"\n",
    "\n",
    "# print the pipeline job again to review the changes\n",
    "print(pipeline_job)"
   ]
  },
  {
   "cell_type": "markdown",
   "id": "6e1e3327-28af-4443-b357-2ab04901671c",
   "metadata": {},
   "source": [
    "## Submit Pipeline Job"
   ]
  },
  {
   "cell_type": "code",
   "execution_count": null,
   "id": "9f4fcf7f-b814-47a9-967f-00c82ab7d1f1",
   "metadata": {},
   "outputs": [],
   "source": [
    "# submit job to workspace\n",
    "pipeline_job = ml_client.jobs.create_or_update(\n",
    "    pipeline_job, experiment_name=\"pipeline_titanic\"\n",
    ")\n",
    "pipeline_job"
   ]
  },
  {
   "cell_type": "markdown",
   "id": "f9432e0a-289d-4266-b438-a49741ea56a4",
   "metadata": {},
   "source": [
    "---\n",
    "# End of Notebook"
   ]
  }
 ],
 "metadata": {
  "kernelspec": {
   "display_name": "Python 3.8 - AzureML",
   "language": "python",
   "name": "python38-azureml"
  },
  "language_info": {
   "codemirror_mode": {
    "name": "ipython",
    "version": 3
   },
   "file_extension": ".py",
   "mimetype": "text/x-python",
   "name": "python",
   "nbconvert_exporter": "python",
   "pygments_lexer": "ipython3",
   "version": "3.10.11"
  }
 },
 "nbformat": 4,
 "nbformat_minor": 5
}
