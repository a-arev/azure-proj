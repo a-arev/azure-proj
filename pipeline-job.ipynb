{
  "cells": [
    {
      "cell_type": "markdown",
      "source": [
        "# Titanic Challenge - Pipeline Job"
      ],
      "metadata": {},
      "id": "fc11d5cf-1993-42ec-badf-a31d2e79075f"
    },
    {
      "cell_type": "markdown",
      "source": [
        "## 1 Connect to Workspace"
      ],
      "metadata": {},
      "id": "f116eeb4-d823-4a20-8661-a3491ebae54e"
    },
    {
      "cell_type": "code",
      "source": [
        "from azure.identity import DefaultAzureCredential, InteractiveBrowserCredential\n",
        "from azure.ai.ml import MLClient\n",
        "\n",
        "try:\n",
        "    credential = DefaultAzureCredential()\n",
        "    # Check if given credential can get token successfully.\n",
        "    credential.get_token(\"https://management.azure.com/.default\")\n",
        "except Exception as ex:\n",
        "    # Fall back to InteractiveBrowserCredential in case DefaultAzureCredential not work\n",
        "    credential = InteractiveBrowserCredential()"
      ],
      "outputs": [],
      "execution_count": 20,
      "metadata": {
        "gather": {
          "logged": 1730786754987
        }
      },
      "id": "839d9bcf-44bd-4d18-9da3-1768137a6583"
    },
    {
      "cell_type": "code",
      "source": [
        "# Get a handle to workspace\n",
        "ml_client = MLClient.from_config(credential=credential)"
      ],
      "outputs": [
        {
          "output_type": "stream",
          "name": "stderr",
          "text": "Found the config file in: /config.json\n"
        }
      ],
      "execution_count": 21,
      "metadata": {
        "gather": {
          "logged": 1730786755516
        }
      },
      "id": "d7769b68-e8c6-46da-a587-b65b693382c8"
    },
    {
      "cell_type": "markdown",
      "source": [
        "## 2 Load Components"
      ],
      "metadata": {},
      "id": "688b003e-6190-48df-9e06-2970fa2b64cf"
    },
    {
      "cell_type": "code",
      "source": [
        "from azure.ai.ml import load_component\n",
        "parent_dir = \"\"\n",
        "\n",
        "prep_data = load_component(source=parent_dir + \"./prep-data.yml\")\n",
        "train_random_forest = load_component(source=parent_dir + \"./train-model.yml\")\n",
        "make_predictions = load_component(source=parent_dir + \"./make-predictions.yml\")\n",
        "print(\"Components have been loaded...\")"
      ],
      "outputs": [
        {
          "output_type": "stream",
          "name": "stdout",
          "text": "Components have been loaded...\n"
        }
      ],
      "execution_count": 22,
      "metadata": {
        "gather": {
          "logged": 1730786755858
        }
      },
      "id": "f36b7787-934b-4ae4-8355-ecff5c5e1081"
    },
    {
      "cell_type": "markdown",
      "source": [
        "## 3.A Build Pipeline"
      ],
      "metadata": {},
      "id": "74a68092-a733-4508-a70f-46f671ce187c"
    },
    {
      "cell_type": "code",
      "source": [
        "from azure.ai.ml import Input\n",
        "from azure.ai.ml.constants import AssetTypes\n",
        "from azure.ai.ml.dsl import pipeline\n",
        "\n",
        "@pipeline()\n",
        "def titanic_classification(titanic_data, sample_data):\n",
        "    # 1 clean training data\n",
        "    clean_data = prep_data(\n",
        "        unclean_titanic=titanic_data, \n",
        "        unclean_sample=sample_data)\n",
        "    # 2 train model\n",
        "    train_model = train_random_forest(\n",
        "        training_data=clean_data.outputs.clean_titanic)\n",
        "    # 3 make predictions with clean sub data\n",
        "    get_predictions = make_predictions(\n",
        "        sample_data=clean_data.outputs.clean_sample,\n",
        "        trained_model=train_model.outputs.trained_model)\n",
        "\n",
        "    return {\n",
        "        \"pipeline_job_transformed_data\": clean_data.outputs.clean_titanic,\n",
        "        \"pipeline_job_trained_model\": train_model.outputs.trained_model,\n",
        "        \"pipeline_job_prediction_data\": get_predictions.outputs.predictions_data,\n",
        "    }\n",
        "\n",
        "pipeline_job = titanic_classification(\n",
        "    Input(type=AssetTypes.URI_FILE, path=\"azureml:titanic-local:1\"),\n",
        "    Input(type=AssetTypes.URI_FILE, path=\"azureml:titanic-sample-local:1\")\n",
        ")\n",
        "print(\"Pipeline has been defined...\")"
      ],
      "outputs": [
        {
          "output_type": "stream",
          "name": "stdout",
          "text": "Pipeline has been defined...\n"
        }
      ],
      "execution_count": 23,
      "metadata": {
        "gather": {
          "logged": 1730786756329
        }
      },
      "id": "9385c70b-8fdc-4866-b743-73706e5c99a5"
    },
    {
      "cell_type": "markdown",
      "source": [
        "## 3.B Change Pipeline Parameters"
      ],
      "metadata": {},
      "id": "a9e8b585-0d97-4092-b5cc-1a41fe697cc7"
    },
    {
      "cell_type": "code",
      "source": [
        "# set pipeline level compute\n",
        "pipeline_job.settings.default_compute = \"aml-cluster\"\n",
        "# set pipeline level datastore\n",
        "pipeline_job.settings.default_datastore = \"workspaceblobstore\"\n",
        "\n",
        "# print the pipeline job again to review the changes\n",
        "print(pipeline_job)"
      ],
      "outputs": [
        {
          "output_type": "stream",
          "name": "stdout",
          "text": "display_name: titanic_classification\ntype: pipeline\ninputs:\n  titanic_data:\n    type: uri_file\n    path: azureml:titanic-local:1\n  sample_data:\n    type: uri_file\n    path: azureml:titanic-sample-local:1\noutputs:\n  pipeline_job_transformed_data:\n    type: uri_folder\n  pipeline_job_trained_model:\n    type: mlflow_model\n  pipeline_job_prediction_data:\n    type: uri_folder\njobs:\n  clean_data:\n    type: command\n    inputs:\n      unclean_titanic:\n        path: ${{parent.inputs.titanic_data}}\n      unclean_sample:\n        path: ${{parent.inputs.sample_data}}\n    outputs:\n      clean_titanic: ${{parent.outputs.pipeline_job_transformed_data}}\n    component:\n      $schema: https://azuremlschemas.azureedge.net/latest/commandComponent.schema.json\n      name: prep_data\n      version: '1'\n      display_name: Prepare data for training and predictions\n      type: command\n      inputs:\n        unclean_titanic:\n          type: uri_file\n        unclean_sample:\n          type: uri_file\n      outputs:\n        clean_titanic:\n          type: uri_folder\n        clean_sample:\n          type: uri_folder\n      command: python prep-data.py  --unclean_titanic ${{inputs.unclean_titanic}}\n        --unclean_sample ${{inputs.unclean_sample}} --clean_titanic ${{outputs.clean_titanic}}\n        --clean_sample ${{outputs.clean_sample}}\n      environment: azureml:titanic-env@latest\n      code: /mnt/batch/tasks/shared/LS_root/mounts/clusters/aml-ci/code/Users/a.arev822/titanic-competition/src\n      is_deterministic: true\n  train_model:\n    type: command\n    inputs:\n      training_data:\n        path: ${{parent.jobs.clean_data.outputs.clean_titanic}}\n    outputs:\n      trained_model: ${{parent.outputs.pipeline_job_trained_model}}\n    component:\n      $schema: https://azuremlschemas.azureedge.net/latest/commandComponent.schema.json\n      name: train_model\n      version: '1'\n      display_name: Train a random forest model\n      type: command\n      inputs:\n        training_data:\n          type: uri_folder\n      outputs:\n        trained_model:\n          type: mlflow_model\n      command: 'python train-model.py  --training_data ${{inputs.training_data}}  --trained_model\n        ${{outputs.trained_model}} '\n      environment: azureml:AzureML-sklearn-0.24-ubuntu18.04-py37-cpu@latest\n      code: /mnt/batch/tasks/shared/LS_root/mounts/clusters/aml-ci/code/Users/a.arev822/titanic-competition/src\n      is_deterministic: true\n  get_predictions:\n    type: command\n    inputs:\n      sample_data:\n        path: ${{parent.jobs.clean_data.outputs.clean_sample}}\n      trained_model:\n        path: ${{parent.jobs.train_model.outputs.trained_model}}\n    outputs:\n      predictions_data: ${{parent.outputs.pipeline_job_prediction_data}}\n    component:\n      $schema: https://azuremlschemas.azureedge.net/latest/commandComponent.schema.json\n      name: make_predictions\n      version: '1'\n      display_name: Makes predictions using a trained random forest model\n      type: command\n      inputs:\n        sample_data:\n          type: uri_folder\n        trained_model:\n          type: mlflow_model\n      outputs:\n        predictions_data:\n          type: uri_folder\n      command: 'python make-predictions.py  --sample_data ${{inputs.sample_data}}  --trained_model\n        ${{inputs.trained_model}}  --predictions_data ${{outputs.predictions_data}} '\n      environment: azureml:AzureML-sklearn-0.24-ubuntu18.04-py37-cpu@latest\n      code: /mnt/batch/tasks/shared/LS_root/mounts/clusters/aml-ci/code/Users/a.arev822/titanic-competition/src\n      is_deterministic: true\nsettings:\n  default_datastore: azureml:workspaceblobstore\n  default_compute: azureml:aml-cluster\n\n"
        }
      ],
      "execution_count": 24,
      "metadata": {
        "gather": {
          "logged": 1730786756666
        },
        "scrolled": true
      },
      "id": "0682bb0a-1cfe-4037-a5e1-7473830879ef"
    },
    {
      "cell_type": "markdown",
      "source": [
        "## 4 Submit Pipeline Job"
      ],
      "metadata": {},
      "id": "6e1e3327-28af-4443-b357-2ab04901671c"
    },
    {
      "cell_type": "code",
      "source": [
        "# submit job to workspace\n",
        "pipeline_job = ml_client.jobs.create_or_update(\n",
        "    pipeline_job, experiment_name=\"pipeline_titanic\"\n",
        ")\n",
        "pipeline_job"
      ],
      "outputs": [
        {
          "output_type": "stream",
          "name": "stderr",
          "text": "\u001b[32mUploading src (0.02 MBs): 100%|██████████| 21185/21185 [00:00<00:00, 169158.97it/s]\n\u001b[39m\n\npathOnCompute is not a known attribute of class <class 'azure.ai.ml._restclient.v2023_04_01_preview.models._models_py3.UriFolderJobOutput'> and will be ignored\npathOnCompute is not a known attribute of class <class 'azure.ai.ml._restclient.v2023_04_01_preview.models._models_py3.MLFlowModelJobOutput'> and will be ignored\npathOnCompute is not a known attribute of class <class 'azure.ai.ml._restclient.v2023_04_01_preview.models._models_py3.UriFolderJobOutput'> and will be ignored\n"
        },
        {
          "output_type": "execute_result",
          "execution_count": 25,
          "data": {
            "text/plain": "PipelineJob({'inputs': {'titanic_data': <azure.ai.ml.entities._job.pipeline._io.base.PipelineInput object at 0x7facfdca1ab0>, 'sample_data': <azure.ai.ml.entities._job.pipeline._io.base.PipelineInput object at 0x7facfdca1ae0>}, 'outputs': {'pipeline_job_transformed_data': <azure.ai.ml.entities._job.pipeline._io.base.PipelineOutput object at 0x7facfdca1b10>, 'pipeline_job_trained_model': <azure.ai.ml.entities._job.pipeline._io.base.PipelineOutput object at 0x7facfdca1b40>, 'pipeline_job_prediction_data': <azure.ai.ml.entities._job.pipeline._io.base.PipelineOutput object at 0x7facfdca1b70>}, 'jobs': {}, 'component': PipelineComponent({'latest_version': None, 'intellectual_property': None, 'auto_increment_version': False, 'source': 'REMOTE.WORKSPACE.JOB', 'is_anonymous': True, 'auto_delete_setting': None, 'name': 'azureml_anonymous', 'description': None, 'tags': {}, 'properties': {}, 'print_as_yaml': False, 'id': None, 'Resource__source_path': None, 'base_path': '/mnt/batch/tasks/shared/LS_root/mounts/clusters/aml-ci/code/Users/a.arev822/titanic-competition', 'creation_context': None, 'serialize': <msrest.serialization.Serializer object at 0x7facfdca1300>, 'version': '1', 'schema': None, 'type': 'pipeline', 'display_name': 'titanic_classification', 'is_deterministic': None, 'inputs': {'titanic_data': {}, 'sample_data': {}}, 'outputs': {'pipeline_job_transformed_data': {}, 'pipeline_job_trained_model': {}, 'pipeline_job_prediction_data': {}}, 'yaml_str': None, 'other_parameter': {}, 'jobs': {'clean_data': Command({'parameters': {}, 'init': False, 'name': 'clean_data', 'type': 'command', 'status': None, 'log_files': None, 'description': None, 'tags': {}, 'properties': {}, 'print_as_yaml': False, 'id': None, 'Resource__source_path': '', 'base_path': '/mnt/batch/tasks/shared/LS_root/mounts/clusters/aml-ci/code/Users/a.arev822/titanic-competition', 'creation_context': None, 'serialize': <msrest.serialization.Serializer object at 0x7facfdca1270>, 'allowed_keys': {}, 'key_restriction': False, 'logger': <TraceLogger attr_dict (WARNING)>, 'display_name': None, 'experiment_name': None, 'compute': None, 'services': None, 'comment': None, 'job_inputs': {'unclean_titanic': '${{parent.inputs.titanic_data}}', 'unclean_sample': '${{parent.inputs.sample_data}}'}, 'job_outputs': {'clean_titanic': '${{parent.outputs.pipeline_job_transformed_data}}'}, 'inputs': {'unclean_titanic': <azure.ai.ml.entities._job.pipeline._io.base.NodeInput object at 0x7facfdca11b0>, 'unclean_sample': <azure.ai.ml.entities._job.pipeline._io.base.NodeInput object at 0x7facfdca1240>}, 'outputs': {'clean_titanic': <azure.ai.ml.entities._job.pipeline._io.base.NodeOutput object at 0x7facfdca1180>}, 'component': 'azureml_anonymous:8f0f0c51-8483-4489-bb7e-ee0fd194467e', 'referenced_control_flow_node_instance_id': None, 'kwargs': {'services': None}, 'instance_id': 'e5592a6d-76b0-42f5-b9ca-8eb8b5eb47ca', 'source': 'YAML.COMPONENT', 'validate_required_input_not_provided': True, 'limits': None, 'identity': None, 'distribution': None, 'environment_variables': {}, 'environment': None, 'resources': None, 'queue_settings': None, 'swept': False}), 'train_model': Command({'parameters': {}, 'init': False, 'name': 'train_model', 'type': 'command', 'status': None, 'log_files': None, 'description': None, 'tags': {}, 'properties': {}, 'print_as_yaml': False, 'id': None, 'Resource__source_path': '', 'base_path': '/mnt/batch/tasks/shared/LS_root/mounts/clusters/aml-ci/code/Users/a.arev822/titanic-competition', 'creation_context': None, 'serialize': <msrest.serialization.Serializer object at 0x7facfdca0f40>, 'allowed_keys': {}, 'key_restriction': False, 'logger': <TraceLogger attr_dict (WARNING)>, 'display_name': None, 'experiment_name': None, 'compute': None, 'services': None, 'comment': None, 'job_inputs': {'training_data': '${{parent.jobs.clean_data.outputs.clean_titanic}}'}, 'job_outputs': {'trained_model': '${{parent.outputs.pipeline_job_trained_model}}'}, 'inputs': {'training_data': <azure.ai.ml.entities._job.pipeline._io.base.NodeInput object at 0x7facfdca0eb0>}, 'outputs': {'trained_model': <azure.ai.ml.entities._job.pipeline._io.base.NodeOutput object at 0x7facfdca1690>}, 'component': 'azureml_anonymous:c2a06a27-a52e-46e5-8136-ef60080d2b01', 'referenced_control_flow_node_instance_id': None, 'kwargs': {'services': None}, 'instance_id': '3134753c-cfb5-44d0-a886-2b2fd06f5673', 'source': 'YAML.COMPONENT', 'validate_required_input_not_provided': True, 'limits': None, 'identity': None, 'distribution': None, 'environment_variables': {}, 'environment': None, 'resources': None, 'queue_settings': None, 'swept': False}), 'get_predictions': Command({'parameters': {}, 'init': False, 'name': 'get_predictions', 'type': 'command', 'status': None, 'log_files': None, 'description': None, 'tags': {}, 'properties': {}, 'print_as_yaml': False, 'id': None, 'Resource__source_path': '', 'base_path': '/mnt/batch/tasks/shared/LS_root/mounts/clusters/aml-ci/code/Users/a.arev822/titanic-competition', 'creation_context': None, 'serialize': <msrest.serialization.Serializer object at 0x7facfdca1030>, 'allowed_keys': {}, 'key_restriction': False, 'logger': <TraceLogger attr_dict (WARNING)>, 'display_name': None, 'experiment_name': None, 'compute': None, 'services': None, 'comment': None, 'job_inputs': {'sample_data': '${{parent.jobs.clean_data.outputs.clean_sample}}', 'trained_model': '${{parent.jobs.train_model.outputs.trained_model}}'}, 'job_outputs': {'predictions_data': '${{parent.outputs.pipeline_job_prediction_data}}'}, 'inputs': {'sample_data': <azure.ai.ml.entities._job.pipeline._io.base.NodeInput object at 0x7facfdca1210>, 'trained_model': <azure.ai.ml.entities._job.pipeline._io.base.NodeInput object at 0x7facfdca0e80>}, 'outputs': {'predictions_data': <azure.ai.ml.entities._job.pipeline._io.base.NodeOutput object at 0x7facfdca11e0>}, 'component': 'azureml_anonymous:7c1795cc-9559-4a0c-91dd-970b6d121451', 'referenced_control_flow_node_instance_id': None, 'kwargs': {'services': None}, 'instance_id': 'cbde5db6-bd11-4cb0-a869-f9df1ccc6869', 'source': 'YAML.COMPONENT', 'validate_required_input_not_provided': True, 'limits': None, 'identity': None, 'distribution': None, 'environment_variables': {}, 'environment': None, 'resources': None, 'queue_settings': None, 'swept': False})}, 'job_types': {'command': 3}, 'job_sources': {'YAML.COMPONENT': 3}, 'source_job_id': None}), 'type': 'pipeline', 'status': 'NotStarted', 'log_files': None, 'name': 'strong_fly_vn9xn46ftx', 'description': None, 'tags': {}, 'properties': {}, 'print_as_yaml': False, 'id': '/subscriptions/32a11691-d09a-41e0-a077-885cfbf93364/resourceGroups/rg-dp100-labs/providers/Microsoft.MachineLearningServices/workspaces/mlw-dp100-labs/jobs/strong_fly_vn9xn46ftx', 'Resource__source_path': '', 'base_path': '/mnt/batch/tasks/shared/LS_root/mounts/clusters/aml-ci/code/Users/a.arev822/titanic-competition', 'creation_context': <azure.ai.ml.entities._system_data.SystemData object at 0x7facfdca19c0>, 'serialize': <msrest.serialization.Serializer object at 0x7facfdca1ba0>, 'display_name': 'titanic_classification', 'experiment_name': 'pipeline_titanic', 'compute': None, 'services': {'Tracking': {'endpoint': 'azureml://westus.api.azureml.ms/mlflow/v1.0/subscriptions/32a11691-d09a-41e0-a077-885cfbf93364/resourceGroups/rg-dp100-labs/providers/Microsoft.MachineLearningServices/workspaces/mlw-dp100-labs?', 'type': 'Tracking'}, 'Studio': {'endpoint': 'https://ml.azure.com/runs/strong_fly_vn9xn46ftx?wsid=/subscriptions/32a11691-d09a-41e0-a077-885cfbf93364/resourcegroups/rg-dp100-labs/workspaces/mlw-dp100-labs&tid=500572c7-e81a-4778-8a95-3ca3b5706f9e', 'type': 'Studio'}}, 'settings': {}, 'identity': None, 'default_code': None, 'default_environment': None})",
            "text/html": "<table style=\"width:100%\"><tr><th>Experiment</th><th>Name</th><th>Type</th><th>Status</th><th>Details Page</th></tr><tr><td>pipeline_titanic</td><td>strong_fly_vn9xn46ftx</td><td>pipeline</td><td>NotStarted</td><td><a href=\"https://ml.azure.com/runs/strong_fly_vn9xn46ftx?wsid=/subscriptions/32a11691-d09a-41e0-a077-885cfbf93364/resourcegroups/rg-dp100-labs/workspaces/mlw-dp100-labs&amp;tid=500572c7-e81a-4778-8a95-3ca3b5706f9e\" target=\"_blank\" rel=\"noopener\">Link to Azure Machine Learning studio</a></td></tr></table>"
          },
          "metadata": {}
        }
      ],
      "execution_count": 25,
      "metadata": {
        "gather": {
          "logged": 1730786769303
        }
      },
      "id": "9f4fcf7f-b814-47a9-967f-00c82ab7d1f1"
    },
    {
      "cell_type": "markdown",
      "source": [
        "---\n",
        "# End of Notebook"
      ],
      "metadata": {},
      "id": "f9432e0a-289d-4266-b438-a49741ea56a4"
    }
  ],
  "metadata": {
    "kernel_info": {
      "name": "python38-azureml"
    },
    "kernelspec": {
      "name": "python38-azureml",
      "language": "python",
      "display_name": "Python 3.8 - AzureML"
    },
    "language_info": {
      "name": "python",
      "version": "3.10.11",
      "mimetype": "text/x-python",
      "codemirror_mode": {
        "name": "ipython",
        "version": 3
      },
      "pygments_lexer": "ipython3",
      "nbconvert_exporter": "python",
      "file_extension": ".py"
    },
    "microsoft": {
      "host": {
        "AzureML": {
          "notebookHasBeenCompleted": true
        }
      },
      "ms_spell_check": {
        "ms_spell_check_language": "en"
      }
    },
    "nteract": {
      "version": "nteract-front-end@1.0.0"
    }
  },
  "nbformat": 4,
  "nbformat_minor": 5
}