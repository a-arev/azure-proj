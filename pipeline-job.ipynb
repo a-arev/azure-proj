{
 "cells": [
  {
   "cell_type": "markdown",
   "id": "fc11d5cf-1993-42ec-badf-a31d2e79075f",
   "metadata": {},
   "source": [
    "# Titanic Challenge - Pipeline Job"
   ]
  },
  {
   "cell_type": "markdown",
   "id": "f116eeb4-d823-4a20-8661-a3491ebae54e",
   "metadata": {},
   "source": [
    "## 1 Connect to Workspace"
   ]
  },
  {
   "cell_type": "code",
   "execution_count": 1,
   "id": "839d9bcf-44bd-4d18-9da3-1768137a6583",
   "metadata": {},
   "outputs": [],
   "source": [
    "from azure.identity import DefaultAzureCredential, InteractiveBrowserCredential\n",
    "from azure.ai.ml import MLClient\n",
    "\n",
    "try:\n",
    "    credential = DefaultAzureCredential()\n",
    "    # Check if given credential can get token successfully.\n",
    "    credential.get_token(\"https://management.azure.com/.default\")\n",
    "except Exception as ex:\n",
    "    # Fall back to InteractiveBrowserCredential in case DefaultAzureCredential not work\n",
    "    credential = InteractiveBrowserCredential()"
   ]
  },
  {
   "cell_type": "code",
   "execution_count": 2,
   "id": "d7769b68-e8c6-46da-a587-b65b693382c8",
   "metadata": {},
   "outputs": [
    {
     "name": "stderr",
     "output_type": "stream",
     "text": [
      "Found the config file in: /config.json\n"
     ]
    }
   ],
   "source": [
    "# Get a handle to workspace\n",
    "ml_client = MLClient.from_config(credential=credential)"
   ]
  },
  {
   "cell_type": "markdown",
   "id": "688b003e-6190-48df-9e06-2970fa2b64cf",
   "metadata": {},
   "source": [
    "## 2 Load Components"
   ]
  },
  {
   "cell_type": "code",
   "execution_count": 3,
   "id": "f36b7787-934b-4ae4-8355-ecff5c5e1081",
   "metadata": {},
   "outputs": [],
   "source": [
    "from azure.ai.ml import load_component\n",
    "parent_dir = \"\"\n",
    "\n",
    "prep_data = load_component(source=parent_dir + \"./prep-data.yml\")\n",
    "train_random_forest = load_component(source=parent_dir + \"./train-model.yml\")\n",
    "make_predictions = load_component(source=parent_dir + \"./make-predictions.yml\")\n",
    "print(\"Components have been loaded...\")"
   ]
  },
  {
   "cell_type": "markdown",
   "id": "74a68092-a733-4508-a70f-46f671ce187c",
   "metadata": {},
   "source": [
    "## 3.A Build Pipeline"
   ]
  },
  {
   "cell_type": "code",
   "execution_count": 4,
   "id": "9385c70b-8fdc-4866-b743-73706e5c99a5",
   "metadata": {},
   "outputs": [],
   "source": [
    "from azure.ai.ml import Input\n",
    "from azure.ai.ml.constants import AssetTypes\n",
    "from azure.ai.ml.dsl import pipeline\n",
    "\n",
    "@pipeline()\n",
    "def titanic_classification(titanic_data, sample_data):\n",
    "    # 1 clean training data\n",
    "    clean_titanic_data = prep_data(unclean_data=titanic_data)\n",
    "    # 2 train model\n",
    "    train_model = train_random_forest(training_data=clean_titanic_data.outputs.clean_data)\n",
    "    # 3 clean submission data\n",
    "    clean_sample_data = prep_data(unclean_data=sample_data)\n",
    "    # 4 make predictions with clean sub data\n",
    "    get_predictions = make_predictions(sample_data=clean_sample_data.outputs.clean_data,\n",
    "                                       trained_model=train_model.outputs.trained_model)\n",
    "\n",
    "    return {\n",
    "        \"pipeline_job_transformed_data\": clean_titanic_data.outputs.clean_data,\n",
    "        \"pipeline_job_trained_model\": train_model.outputs.trained_model,\n",
    "        \"pipeline_job_prediction_data\": get_predictions.outputs.predictions_data,\n",
    "    }\n",
    "\n",
    "pipeline_job = titanic_classification(\n",
    "    Input(type=AssetTypes.URI_FILE, path=\"azureml:titanic-local:1\"),\n",
    "    Input(type=AssetTypes.URI_FILE, path=\"azureml:titanic-sample-local:1\")\n",
    ")\n",
    "print(\"Pipeline has been defined...\")"
   ]
  },
  {
   "cell_type": "markdown",
   "id": "a9e8b585-0d97-4092-b5cc-1a41fe697cc7",
   "metadata": {},
   "source": [
    "## 3.B Change Pipeline Parameters"
   ]
  },
  {
   "cell_type": "code",
   "execution_count": 5,
   "id": "0682bb0a-1cfe-4037-a5e1-7473830879ef",
   "metadata": {},
   "outputs": [
    {
     "name": "stderr",
     "output_type": "stream",
     "text": [
      "Class AutoDeleteSettingSchema: This is an experimental class, and may change at any time. Please see https://aka.ms/azuremlexperimental for more information.\n",
      "Class AutoDeleteConditionSchema: This is an experimental class, and may change at any time. Please see https://aka.ms/azuremlexperimental for more information.\n",
      "Class BaseAutoDeleteSettingSchema: This is an experimental class, and may change at any time. Please see https://aka.ms/azuremlexperimental for more information.\n",
      "Class IntellectualPropertySchema: This is an experimental class, and may change at any time. Please see https://aka.ms/azuremlexperimental for more information.\n",
      "Class ProtectionLevelSchema: This is an experimental class, and may change at any time. Please see https://aka.ms/azuremlexperimental for more information.\n",
      "Class BaseIntellectualPropertySchema: This is an experimental class, and may change at any time. Please see https://aka.ms/azuremlexperimental for more information.\n"
     ]
    },
    {
     "name": "stdout",
     "output_type": "stream",
     "text": [
      "display_name: titanic_classification\n",
      "type: pipeline\n",
      "inputs:\n",
      "  titanic_data:\n",
      "    type: uri_file\n",
      "    path: azureml:titanic-local:1\n",
      "  sample_data:\n",
      "    type: uri_file\n",
      "    path: azureml:titanic-sample-local:1\n",
      "outputs:\n",
      "  pipeline_job_transformed_data:\n",
      "    type: uri_folder\n",
      "  pipeline_job_trained_model:\n",
      "    type: mlflow_model\n",
      "  pipeline_job_prediction_data:\n",
      "    type: uri_folder\n",
      "jobs:\n",
      "  clean_titanic_data:\n",
      "    type: command\n",
      "    inputs:\n",
      "      unclean_data:\n",
      "        path: ${{parent.inputs.titanic_data}}\n",
      "    outputs:\n",
      "      clean_data: ${{parent.outputs.pipeline_job_transformed_data}}\n",
      "    component:\n",
      "      $schema: https://azuremlschemas.azureedge.net/latest/commandComponent.schema.json\n",
      "      name: prep_data\n",
      "      version: '1'\n",
      "      display_name: Prepare data for training/predictions\n",
      "      type: command\n",
      "      inputs:\n",
      "        unclean_data:\n",
      "          type: uri_file\n",
      "      outputs:\n",
      "        clean_data:\n",
      "          type: uri_folder\n",
      "      command: python prep-data.py  --unclean_data ${{inputs.unclean_data}} --clean_data\n",
      "        ${{outputs.clean_data}}\n",
      "      environment: azureml:AzureML-sklearn-0.24-ubuntu18.04-py37-cpu@latest\n",
      "      code: /mnt/batch/tasks/shared/LS_root/mounts/clusters/ci-3d8553335912467087/code/Users/a.arev822/titanic-competition/src\n",
      "      is_deterministic: true\n",
      "  train_model:\n",
      "    type: command\n",
      "    inputs:\n",
      "      training_data:\n",
      "        path: ${{parent.jobs.clean_titanic_data.outputs.clean_data}}\n",
      "    outputs:\n",
      "      trained_model: ${{parent.outputs.pipeline_job_trained_model}}\n",
      "    component:\n",
      "      $schema: https://azuremlschemas.azureedge.net/latest/commandComponent.schema.json\n",
      "      name: train_model\n",
      "      version: '1'\n",
      "      display_name: Train a random forest model\n",
      "      type: command\n",
      "      inputs:\n",
      "        training_data:\n",
      "          type: uri_folder\n",
      "      outputs:\n",
      "        trained_model:\n",
      "          type: mlflow_model\n",
      "      command: 'python train-model.py  --training_data ${{inputs.training_data}}  --trained_model\n",
      "        ${{outputs.trained_model}} '\n",
      "      environment: azureml:AzureML-sklearn-0.24-ubuntu18.04-py37-cpu@latest\n",
      "      code: /mnt/batch/tasks/shared/LS_root/mounts/clusters/ci-3d8553335912467087/code/Users/a.arev822/titanic-competition/src\n",
      "      is_deterministic: true\n",
      "  clean_sample_data:\n",
      "    type: command\n",
      "    inputs:\n",
      "      unclean_data:\n",
      "        path: ${{parent.inputs.sample_data}}\n",
      "    component:\n",
      "      $schema: https://azuremlschemas.azureedge.net/latest/commandComponent.schema.json\n",
      "      name: prep_data\n",
      "      version: '1'\n",
      "      display_name: Prepare data for training/predictions\n",
      "      type: command\n",
      "      inputs:\n",
      "        unclean_data:\n",
      "          type: uri_file\n",
      "      outputs:\n",
      "        clean_data:\n",
      "          type: uri_folder\n",
      "      command: python prep-data.py  --unclean_data ${{inputs.unclean_data}} --clean_data\n",
      "        ${{outputs.clean_data}}\n",
      "      environment: azureml:AzureML-sklearn-0.24-ubuntu18.04-py37-cpu@latest\n",
      "      code: /mnt/batch/tasks/shared/LS_root/mounts/clusters/ci-3d8553335912467087/code/Users/a.arev822/titanic-competition/src\n",
      "      is_deterministic: true\n",
      "  get_predictions:\n",
      "    type: command\n",
      "    inputs:\n",
      "      sample_data:\n",
      "        path: ${{parent.jobs.clean_sample_data.outputs.clean_data}}\n",
      "      trained_model:\n",
      "        path: ${{parent.jobs.train_model.outputs.trained_model}}\n",
      "    outputs:\n",
      "      predictions_data: ${{parent.outputs.pipeline_job_prediction_data}}\n",
      "    component:\n",
      "      $schema: https://azuremlschemas.azureedge.net/latest/commandComponent.schema.json\n",
      "      name: make_predictions\n",
      "      version: '1'\n",
      "      display_name: Makes predictions using a trained random forest model\n",
      "      type: command\n",
      "      inputs:\n",
      "        sample_data:\n",
      "          type: uri_folder\n",
      "        trained_model:\n",
      "          type: mlflow_model\n",
      "      outputs:\n",
      "        predictions_data:\n",
      "          type: uri_folder\n",
      "      command: 'python make-predictions.py  --sample_data ${{inputs.sample_data}}  --trained_model\n",
      "        ${{inputs.trained_model}}  --predictions_data ${{outputs.predictions_data}} '\n",
      "      environment: azureml:AzureML-sklearn-0.24-ubuntu18.04-py37-cpu@latest\n",
      "      code: /mnt/batch/tasks/shared/LS_root/mounts/clusters/ci-3d8553335912467087/code/Users/a.arev822/titanic-competition/src\n",
      "      is_deterministic: true\n",
      "settings:\n",
      "  default_datastore: azureml:workspaceblobstore\n",
      "  default_compute: azureml:aml-cluster\n",
      "\n"
     ]
    }
   ],
   "source": [
    "# set pipeline level compute\n",
    "pipeline_job.settings.default_compute = \"aml-cluster\"\n",
    "# set pipeline level datastore\n",
    "pipeline_job.settings.default_datastore = \"workspaceblobstore\"\n",
    "\n",
    "# print the pipeline job again to review the changes\n",
    "print(pipeline_job)"
   ]
  },
  {
   "cell_type": "markdown",
   "id": "6e1e3327-28af-4443-b357-2ab04901671c",
   "metadata": {},
   "source": [
    "## 4 Submit Pipeline Job"
   ]
  },
  {
   "cell_type": "code",
   "execution_count": 6,
   "id": "9f4fcf7f-b814-47a9-967f-00c82ab7d1f1",
   "metadata": {},
   "outputs": [
    {
     "name": "stderr",
     "output_type": "stream",
     "text": [
      "pathOnCompute is not a known attribute of class <class 'azure.ai.ml._restclient.v2023_04_01_preview.models._models_py3.UriFolderJobOutput'> and will be ignored\n",
      "pathOnCompute is not a known attribute of class <class 'azure.ai.ml._restclient.v2023_04_01_preview.models._models_py3.MLFlowModelJobOutput'> and will be ignored\n",
      "pathOnCompute is not a known attribute of class <class 'azure.ai.ml._restclient.v2023_04_01_preview.models._models_py3.UriFolderJobOutput'> and will be ignored\n"
     ]
    },
    {
     "data": {
      "text/html": [
       "<table style=\"width:100%\"><tr><th>Experiment</th><th>Name</th><th>Type</th><th>Status</th><th>Details Page</th></tr><tr><td>pipeline_titanic</td><td>lime_orange_lgz116t72q</td><td>pipeline</td><td>NotStarted</td><td><a href=\"https://ml.azure.com/runs/lime_orange_lgz116t72q?wsid=/subscriptions/32a11691-d09a-41e0-a077-885cfbf93364/resourcegroups/rg-3d8553335912467087/workspaces/mlw-3d8553335912467087&amp;tid=500572c7-e81a-4778-8a95-3ca3b5706f9e\" target=\"_blank\" rel=\"noopener\">Link to Azure Machine Learning studio</a></td></tr></table>"
      ],
      "text/plain": [
       "PipelineJob({'inputs': {'titanic_data': <azure.ai.ml.entities._job.pipeline._io.base.PipelineInput object at 0x7f8d23485780>, 'sample_data': <azure.ai.ml.entities._job.pipeline._io.base.PipelineInput object at 0x7f8d23485750>}, 'outputs': {'pipeline_job_transformed_data': <azure.ai.ml.entities._job.pipeline._io.base.PipelineOutput object at 0x7f8d23485720>, 'pipeline_job_trained_model': <azure.ai.ml.entities._job.pipeline._io.base.PipelineOutput object at 0x7f8d234856f0>, 'pipeline_job_prediction_data': <azure.ai.ml.entities._job.pipeline._io.base.PipelineOutput object at 0x7f8d23485450>}, 'jobs': {}, 'component': PipelineComponent({'latest_version': None, 'intellectual_property': None, 'auto_increment_version': False, 'source': 'REMOTE.WORKSPACE.JOB', 'is_anonymous': True, 'auto_delete_setting': None, 'name': 'azureml_anonymous', 'description': None, 'tags': {}, 'properties': {}, 'print_as_yaml': False, 'id': None, 'Resource__source_path': None, 'base_path': '/mnt/batch/tasks/shared/LS_root/mounts/clusters/ci-3d8553335912467087/code/Users/a.arev822/titanic-competition', 'creation_context': None, 'serialize': <msrest.serialization.Serializer object at 0x7f8d23485ed0>, 'version': '1', 'schema': None, 'type': 'pipeline', 'display_name': 'titanic_classification', 'is_deterministic': None, 'inputs': {'titanic_data': {}, 'sample_data': {}}, 'outputs': {'pipeline_job_transformed_data': {}, 'pipeline_job_trained_model': {}, 'pipeline_job_prediction_data': {}}, 'yaml_str': None, 'other_parameter': {}, 'jobs': {'clean_titanic_data': Command({'parameters': {}, 'init': False, 'name': 'clean_titanic_data', 'type': 'command', 'status': None, 'log_files': None, 'description': None, 'tags': {}, 'properties': {}, 'print_as_yaml': False, 'id': None, 'Resource__source_path': '', 'base_path': '/mnt/batch/tasks/shared/LS_root/mounts/clusters/ci-3d8553335912467087/code/Users/a.arev822/titanic-competition', 'creation_context': None, 'serialize': <msrest.serialization.Serializer object at 0x7f8d2b2cb160>, 'allowed_keys': {}, 'key_restriction': False, 'logger': <TraceLogger attr_dict (WARNING)>, 'display_name': None, 'experiment_name': None, 'compute': None, 'services': None, 'comment': None, 'job_inputs': {'unclean_data': '${{parent.inputs.titanic_data}}'}, 'job_outputs': {'clean_data': '${{parent.outputs.pipeline_job_transformed_data}}'}, 'inputs': {'unclean_data': <azure.ai.ml.entities._job.pipeline._io.base.NodeInput object at 0x7f8d2b2cb5b0>}, 'outputs': {'clean_data': <azure.ai.ml.entities._job.pipeline._io.base.NodeOutput object at 0x7f8d2b2cb970>}, 'component': 'azureml_anonymous:bb054ccf-c62b-4889-8211-d57cb559e1d1', 'referenced_control_flow_node_instance_id': None, 'kwargs': {'services': None}, 'instance_id': '0bc4b503-3f2c-4067-8ad4-354ca19cba12', 'source': 'YAML.COMPONENT', 'validate_required_input_not_provided': True, 'limits': None, 'identity': None, 'distribution': None, 'environment_variables': {}, 'environment': None, 'resources': None, 'queue_settings': None, 'swept': False}), 'train_model': Command({'parameters': {}, 'init': False, 'name': 'train_model', 'type': 'command', 'status': None, 'log_files': None, 'description': None, 'tags': {}, 'properties': {}, 'print_as_yaml': False, 'id': None, 'Resource__source_path': '', 'base_path': '/mnt/batch/tasks/shared/LS_root/mounts/clusters/ci-3d8553335912467087/code/Users/a.arev822/titanic-competition', 'creation_context': None, 'serialize': <msrest.serialization.Serializer object at 0x7f8d234858a0>, 'allowed_keys': {}, 'key_restriction': False, 'logger': <TraceLogger attr_dict (WARNING)>, 'display_name': None, 'experiment_name': None, 'compute': None, 'services': None, 'comment': None, 'job_inputs': {'training_data': '${{parent.jobs.clean_titanic_data.outputs.clean_data}}'}, 'job_outputs': {'trained_model': '${{parent.outputs.pipeline_job_trained_model}}'}, 'inputs': {'training_data': <azure.ai.ml.entities._job.pipeline._io.base.NodeInput object at 0x7f8d234861a0>}, 'outputs': {'trained_model': <azure.ai.ml.entities._job.pipeline._io.base.NodeOutput object at 0x7f8d23486410>}, 'component': 'azureml_anonymous:c439cd48-4c0d-43d1-ba41-7d846726ec08', 'referenced_control_flow_node_instance_id': None, 'kwargs': {'services': None}, 'instance_id': '249fd390-a10b-4ba0-bb26-8ca107da3aa8', 'source': 'YAML.COMPONENT', 'validate_required_input_not_provided': True, 'limits': None, 'identity': None, 'distribution': None, 'environment_variables': {}, 'environment': None, 'resources': None, 'queue_settings': None, 'swept': False}), 'clean_sample_data': Command({'parameters': {}, 'init': False, 'name': 'clean_sample_data', 'type': 'command', 'status': None, 'log_files': None, 'description': None, 'tags': {}, 'properties': {}, 'print_as_yaml': False, 'id': None, 'Resource__source_path': '', 'base_path': '/mnt/batch/tasks/shared/LS_root/mounts/clusters/ci-3d8553335912467087/code/Users/a.arev822/titanic-competition', 'creation_context': None, 'serialize': <msrest.serialization.Serializer object at 0x7f8d23485db0>, 'allowed_keys': {}, 'key_restriction': False, 'logger': <TraceLogger attr_dict (WARNING)>, 'display_name': None, 'experiment_name': None, 'compute': None, 'services': None, 'comment': None, 'job_inputs': {'unclean_data': '${{parent.inputs.sample_data}}'}, 'job_outputs': {}, 'inputs': {'unclean_data': <azure.ai.ml.entities._job.pipeline._io.base.NodeInput object at 0x7f8d23485300>}, 'outputs': {}, 'component': 'azureml_anonymous:bb054ccf-c62b-4889-8211-d57cb559e1d1', 'referenced_control_flow_node_instance_id': None, 'kwargs': {'services': None}, 'instance_id': 'cab719cd-ad9d-4a7a-9221-a04d910cea3d', 'source': 'YAML.COMPONENT', 'validate_required_input_not_provided': True, 'limits': None, 'identity': None, 'distribution': None, 'environment_variables': {}, 'environment': None, 'resources': None, 'queue_settings': None, 'swept': False}), 'get_predictions': Command({'parameters': {}, 'init': False, 'name': 'get_predictions', 'type': 'command', 'status': None, 'log_files': None, 'description': None, 'tags': {}, 'properties': {}, 'print_as_yaml': False, 'id': None, 'Resource__source_path': '', 'base_path': '/mnt/batch/tasks/shared/LS_root/mounts/clusters/ci-3d8553335912467087/code/Users/a.arev822/titanic-competition', 'creation_context': None, 'serialize': <msrest.serialization.Serializer object at 0x7f8d23485480>, 'allowed_keys': {}, 'key_restriction': False, 'logger': <TraceLogger attr_dict (WARNING)>, 'display_name': None, 'experiment_name': None, 'compute': None, 'services': None, 'comment': None, 'job_inputs': {'sample_data': '${{parent.jobs.clean_sample_data.outputs.clean_data}}', 'trained_model': '${{parent.jobs.train_model.outputs.trained_model}}'}, 'job_outputs': {'predictions_data': '${{parent.outputs.pipeline_job_prediction_data}}'}, 'inputs': {'sample_data': <azure.ai.ml.entities._job.pipeline._io.base.NodeInput object at 0x7f8d234857b0>, 'trained_model': <azure.ai.ml.entities._job.pipeline._io.base.NodeInput object at 0x7f8d23485de0>}, 'outputs': {'predictions_data': <azure.ai.ml.entities._job.pipeline._io.base.NodeOutput object at 0x7f8d23485690>}, 'component': 'azureml_anonymous:98ddff40-0c6b-4343-b0c2-c3ec6ceedc20', 'referenced_control_flow_node_instance_id': None, 'kwargs': {'services': None}, 'instance_id': '193221b7-4192-440d-91a5-a1f890feaeac', 'source': 'YAML.COMPONENT', 'validate_required_input_not_provided': True, 'limits': None, 'identity': None, 'distribution': None, 'environment_variables': {}, 'environment': None, 'resources': None, 'queue_settings': None, 'swept': False})}, 'job_types': {'command': 4}, 'job_sources': {'YAML.COMPONENT': 4}, 'source_job_id': None}), 'type': 'pipeline', 'status': 'NotStarted', 'log_files': None, 'name': 'lime_orange_lgz116t72q', 'description': None, 'tags': {}, 'properties': {}, 'print_as_yaml': False, 'id': '/subscriptions/32a11691-d09a-41e0-a077-885cfbf93364/resourceGroups/rg-3d8553335912467087/providers/Microsoft.MachineLearningServices/workspaces/mlw-3d8553335912467087/jobs/lime_orange_lgz116t72q', 'Resource__source_path': '', 'base_path': '/mnt/batch/tasks/shared/LS_root/mounts/clusters/ci-3d8553335912467087/code/Users/a.arev822/titanic-competition', 'creation_context': <azure.ai.ml.entities._system_data.SystemData object at 0x7f8d23485a20>, 'serialize': <msrest.serialization.Serializer object at 0x7f8d234856c0>, 'display_name': 'titanic_classification', 'experiment_name': 'pipeline_titanic', 'compute': None, 'services': {'Tracking': {'endpoint': 'azureml://westus.api.azureml.ms/mlflow/v1.0/subscriptions/32a11691-d09a-41e0-a077-885cfbf93364/resourceGroups/rg-3d8553335912467087/providers/Microsoft.MachineLearningServices/workspaces/mlw-3d8553335912467087?', 'type': 'Tracking'}, 'Studio': {'endpoint': 'https://ml.azure.com/runs/lime_orange_lgz116t72q?wsid=/subscriptions/32a11691-d09a-41e0-a077-885cfbf93364/resourcegroups/rg-3d8553335912467087/workspaces/mlw-3d8553335912467087&tid=500572c7-e81a-4778-8a95-3ca3b5706f9e', 'type': 'Studio'}}, 'settings': {}, 'identity': None, 'default_code': None, 'default_environment': None})"
      ]
     },
     "execution_count": 6,
     "metadata": {},
     "output_type": "execute_result"
    }
   ],
   "source": [
    "# submit job to workspace\n",
    "pipeline_job = ml_client.jobs.create_or_update(\n",
    "    pipeline_job, experiment_name=\"pipeline_titanic\"\n",
    ")\n",
    "pipeline_job"
   ]
  },
  {
   "cell_type": "markdown",
   "id": "f9432e0a-289d-4266-b438-a49741ea56a4",
   "metadata": {},
   "source": [
    "---\n",
    "# End of Notebook"
   ]
  }
 ],
 "metadata": {
  "kernelspec": {
   "display_name": "Python 3.8 - AzureML",
   "language": "python",
   "name": "python38-azureml"
  },
  "language_info": {
   "codemirror_mode": {
    "name": "ipython",
    "version": 3
   },
   "file_extension": ".py",
   "mimetype": "text/x-python",
   "name": "python",
   "nbconvert_exporter": "python",
   "pygments_lexer": "ipython3",
   "version": "3.10.11"
  }
 },
 "nbformat": 4,
 "nbformat_minor": 5
}
